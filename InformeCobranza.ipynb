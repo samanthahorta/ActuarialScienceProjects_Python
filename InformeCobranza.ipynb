{
  "nbformat": 4,
  "nbformat_minor": 0,
  "metadata": {
    "colab": {
      "provenance": [],
      "include_colab_link": true
    },
    "kernelspec": {
      "name": "python3",
      "display_name": "Python 3"
    },
    "language_info": {
      "name": "python"
    }
  },
  "cells": [
    {
      "cell_type": "markdown",
      "metadata": {
        "id": "view-in-github",
        "colab_type": "text"
      },
      "source": [
        "<a href=\"https://colab.research.google.com/github/samanthahorta/ActuarialScienceProjects_Python/blob/main/InformeCobranza.ipynb\" target=\"_parent\"><img src=\"https://colab.research.google.com/assets/colab-badge.svg\" alt=\"Open In Colab\"/></a>"
      ]
    },
    {
      "cell_type": "code",
      "execution_count": null,
      "metadata": {
        "id": "UE9dkUaxJC21"
      },
      "outputs": [],
      "source": [
        "# Saldos clientes de crédito\n",
        "import pandas as pd\n",
        "import numpy as np\n",
        "\n",
        "df = pd.read_excel(io = \", sheet_name=\"\")\n",
        "\n",
        "df = df.drop(df[df['']==''].index)\n",
        "\n",
        "print(df)\n"
      ]
    },
    {
      "cell_type": "code",
      "source": [
        "print(df.columns)"
      ],
      "metadata": {
        "id": "ornarrFwNso4"
      },
      "execution_count": null,
      "outputs": []
    },
    {
      "cell_type": "code",
      "source": [
        "# Proceso de suma facturas por pagar\n",
        "\n",
        "import numpy as np\n",
        "df2 = df.groupby([''])[format('')].sum().reset_index()\n",
        "\n",
        "print(df2)"
      ],
      "metadata": {
        "id": "hr7IXmhTJzcP"
      },
      "execution_count": null,
      "outputs": []
    },
    {
      "cell_type": "code",
      "source": [
        "#Condicionantes\n",
        "conditionlist = [\n",
        "    (df2['DIAS DE VENCIMIENTO'] >= 0.0)] \n",
        "choicelist = [df2['SALDO']]\n",
        "df2['Al corriente'] = np.select(conditionlist, choicelist, default=0)\n",
        "\n",
        "conditionlist2 = [\n",
        "    (df2['DIAS DE VENCIMIENTO'] <0.0) & (df2['DIAS DE VENCIMIENTO'] >=-30)]\n",
        "choicelist2 = [df2['SALDO']]\n",
        "df2['1 - 30'] = np.select(conditionlist2, choicelist2, default=0)\n",
        "\n",
        "conditionlist3 = [\n",
        "    (df2['DIAS DE VENCIMIENTO'] <-30) & (df2['DIAS DE VENCIMIENTO'] >=-60)]\n",
        "choicelist3 = [df2['SALDO']]\n",
        "df2['31 - 60'] = np.select(conditionlist3, choicelist3, default=0)\n",
        "\n",
        "conditionlist4 = [\n",
        "    (df2['DIAS DE VENCIMIENTO'] <-60) & (df2['DIAS DE VENCIMIENTO'] >=-90)]\n",
        "choicelist4 = [df2['SALDO']]\n",
        "df2['61 - 90'] = np.select(conditionlist4, choicelist4, default=0)\n",
        "\n",
        "conditionlist5 = [\n",
        "    (df2['DIAS DE VENCIMIENTO'] <-90)]\n",
        "choicelist5 = [df2['SALDO']]\n",
        "df2['91 o más'] = np.select(conditionlist5, choicelist5, default=0)\n",
        "\n",
        "\n",
        "print (df2)\n",
        "display(df2)"
      ],
      "metadata": {
        "id": "iWjV7QxCNHwC"
      },
      "execution_count": null,
      "outputs": []
    },
    {
      "cell_type": "code",
      "source": [
        "df2.to_excel(r'InformeCobranza.xlsx', index = False, header=True)"
      ],
      "metadata": {
        "id": "fsPlvsusVjTL"
      },
      "execution_count": null,
      "outputs": []
    }
  ]
}